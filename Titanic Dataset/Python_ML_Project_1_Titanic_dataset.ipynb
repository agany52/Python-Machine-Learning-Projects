{
  "nbformat": 4,
  "nbformat_minor": 0,
  "metadata": {
    "colab": {
      "provenance": [],
      "authorship_tag": "ABX9TyO8e+jhOLBFi7x/BR5ftgBD",
      "include_colab_link": true
    },
    "kernelspec": {
      "name": "python3",
      "display_name": "Python 3"
    },
    "language_info": {
      "name": "python"
    }
  },
  "cells": [
    {
      "cell_type": "markdown",
      "metadata": {
        "id": "view-in-github",
        "colab_type": "text"
      },
      "source": [
        "<a href=\"https://colab.research.google.com/github/agany52/Python-Machine-Learning-Projects/blob/main/Python_ML_Project_1_Titanic_dataset.ipynb\" target=\"_parent\"><img src=\"https://colab.research.google.com/assets/colab-badge.svg\" alt=\"Open In Colab\"/></a>"
      ]
    },
    {
      "cell_type": "code",
      "execution_count": 2,
      "metadata": {
        "colab": {
          "base_uri": "https://localhost:8080/"
        },
        "id": "_gSx7YraNXEK",
        "outputId": "9485a6ef-4219-4c88-ea9d-4eac901a9ad3"
      },
      "outputs": [
        {
          "output_type": "stream",
          "name": "stdout",
          "text": [
            "Dataset loaded successfully!\n",
            "   PassengerId  Survived  Pclass  \\\n",
            "0            1         0       3   \n",
            "1            2         1       1   \n",
            "2            3         1       3   \n",
            "3            4         1       1   \n",
            "4            5         0       3   \n",
            "\n",
            "                                                Name     Sex   Age  SibSp  \\\n",
            "0                            Braund, Mr. Owen Harris    male  22.0      1   \n",
            "1  Cumings, Mrs. John Bradley (Florence Briggs Th...  female  38.0      1   \n",
            "2                             Heikkinen, Miss. Laina  female  26.0      0   \n",
            "3       Futrelle, Mrs. Jacques Heath (Lily May Peel)  female  35.0      1   \n",
            "4                           Allen, Mr. William Henry    male  35.0      0   \n",
            "\n",
            "   Parch            Ticket     Fare Cabin Embarked  \n",
            "0      0         A/5 21171   7.2500   NaN        S  \n",
            "1      0          PC 17599  71.2833   C85        C  \n",
            "2      0  STON/O2. 3101282   7.9250   NaN        S  \n",
            "3      0            113803  53.1000  C123        S  \n",
            "4      0            373450   8.0500   NaN        S  \n"
          ]
        }
      ],
      "source": [
        "import numpy as np\n",
        "import pandas as pd\n",
        "import matplotlib.pyplot as plt\n",
        "import seaborn as sns\n",
        "%matplotlib inline\n",
        "\n",
        "# Use this corrected URL\n",
        "url = 'https://raw.githubusercontent.com/datasciencedojo/datasets/master/titanic.csv'\n",
        "\n",
        "try:\n",
        "    # Load the data directly from the URL\n",
        "    df = pd.read_csv(url)\n",
        "    print(\"Dataset loaded successfully!\")\n",
        "    print(df.head())\n",
        "except Exception as e:\n",
        "    print(f\"An error occurred: {e}\")"
      ]
    },
    {
      "cell_type": "markdown",
      "source": [
        "Just going to clean up the data a bit..."
      ],
      "metadata": {
        "id": "kVPEfkQg2gFD"
      }
    },
    {
      "cell_type": "code",
      "source": [
        "# Assuming you have the 'df' DataFrame loaded\n",
        "df['Age'] = df['Age'].fillna(df['Age'].mean())\n",
        "df['Sex'] = df['Sex'].map({'male': 0, 'female': 1})\n",
        "\n",
        "# For 'Embarked', we'll use a simple method for now\n",
        "df['Embarked'] = df['Embarked'].map({'S': 0, 'C': 1, 'Q': 2}).fillna(0)\n",
        "\n",
        "# Drop columns that are not useful for a basic model\n",
        "df = df.drop(['PassengerId', 'Name', 'Ticket', 'Cabin'], axis=1)\n",
        "\n",
        "print(df.head())"
      ],
      "metadata": {
        "id": "m7CmzD3aNerk",
        "colab": {
          "base_uri": "https://localhost:8080/"
        },
        "outputId": "032806ac-4062-416b-8b54-2bd53850201d"
      },
      "execution_count": 3,
      "outputs": [
        {
          "output_type": "stream",
          "name": "stdout",
          "text": [
            "   Survived  Pclass  Sex   Age  SibSp  Parch     Fare  Embarked\n",
            "0         0       3    0  22.0      1      0   7.2500       0.0\n",
            "1         1       1    1  38.0      1      0  71.2833       1.0\n",
            "2         1       3    1  26.0      0      0   7.9250       0.0\n",
            "3         1       1    1  35.0      1      0  53.1000       0.0\n",
            "4         0       3    0  35.0      0      0   8.0500       0.0\n"
          ]
        }
      ]
    },
    {
      "cell_type": "code",
      "source": [],
      "metadata": {
        "id": "LCXCVw0N2T5y"
      },
      "execution_count": null,
      "outputs": []
    },
    {
      "cell_type": "markdown",
      "source": [
        "Using this data, we will create a logistic regression model to predict the likelihood a person survived. We will split our given data into a training set (data the model will learn from) and a testing set (data we will use to evaluate our model's predictions)."
      ],
      "metadata": {
        "id": "aEBp73hThZYQ"
      }
    },
    {
      "cell_type": "code",
      "source": [
        "from sklearn.model_selection import train_test_split\n",
        "\n",
        "# Define our features (X) and target (y)\n",
        "X = df.drop('Survived', axis=1)  # All columns except 'Survived'\n",
        "y = df['Survived']               # The 'Survived' column\n",
        "\n",
        "# Split the data into training and testing sets (80% train, 20% test)\n",
        "X_train, X_test, y_train, y_test = train_test_split(X, y, test_size=0.2, random_state=42)\n",
        "\n",
        "print(\"X_train shape:\", X_train.shape)\n",
        "print(\"y_train shape:\", y_train.shape)\n",
        "print(\"X_test shape:\", X_test.shape)\n",
        "print(\"y_test shape:\", y_test.shape)"
      ],
      "metadata": {
        "colab": {
          "base_uri": "https://localhost:8080/"
        },
        "id": "xq3thcrohm2J",
        "outputId": "32d2551e-820e-4179-eb5c-226f38dea1c5"
      },
      "execution_count": 4,
      "outputs": [
        {
          "output_type": "stream",
          "name": "stdout",
          "text": [
            "X_train shape: (712, 7)\n",
            "y_train shape: (712,)\n",
            "X_test shape: (179, 7)\n",
            "y_test shape: (179,)\n"
          ]
        }
      ]
    },
    {
      "cell_type": "code",
      "source": [],
      "metadata": {
        "id": "Mm3lz-6phx87"
      },
      "execution_count": null,
      "outputs": []
    },
    {
      "cell_type": "markdown",
      "source": [
        "Now that the data is properly split, we can build our logistic regression model."
      ],
      "metadata": {
        "id": "O-RPbBcTiZkP"
      }
    },
    {
      "cell_type": "code",
      "source": [
        "from sklearn.linear_model import LogisticRegression\n",
        "\n",
        "# Create an instance of the model\n",
        "model = LogisticRegression(max_iter=200)\n",
        "\n",
        "# Train the model using the training data\n",
        "model.fit(X_train, y_train)\n",
        "\n",
        "print(\"Model training complete.\")"
      ],
      "metadata": {
        "colab": {
          "base_uri": "https://localhost:8080/"
        },
        "id": "lUqp0ck9ibhQ",
        "outputId": "98c09dde-715f-4cb6-8e4c-6efb342110b3"
      },
      "execution_count": 5,
      "outputs": [
        {
          "output_type": "stream",
          "name": "stdout",
          "text": [
            "Model training complete.\n"
          ]
        }
      ]
    },
    {
      "cell_type": "code",
      "source": [],
      "metadata": {
        "id": "kAnXAEV3iovD"
      },
      "execution_count": null,
      "outputs": []
    },
    {
      "cell_type": "markdown",
      "source": [
        "Now that the model has been generated, let's test its mettle and see how it stacks up to the actual y_test values."
      ],
      "metadata": {
        "id": "aILmhJ7-ivIy"
      }
    },
    {
      "cell_type": "code",
      "source": [
        "from sklearn.metrics import accuracy_score\n",
        "\n",
        "# Make predictions on the test data\n",
        "predictions = model.predict(X_test)\n",
        "\n",
        "# Calculate the accuracy of the model\n",
        "accuracy = accuracy_score(y_test, predictions)\n",
        "\n",
        "print(\"Model Accuracy: {:.2f}%\".format(accuracy * 100))"
      ],
      "metadata": {
        "colab": {
          "base_uri": "https://localhost:8080/"
        },
        "id": "mmGrgJMli2qm",
        "outputId": "a23ab5ce-5bc6-4da5-8479-359ea3b72250"
      },
      "execution_count": 6,
      "outputs": [
        {
          "output_type": "stream",
          "name": "stdout",
          "text": [
            "Model Accuracy: 79.89%\n"
          ]
        }
      ]
    },
    {
      "cell_type": "code",
      "source": [],
      "metadata": {
        "id": "7r3_kTiki9KH"
      },
      "execution_count": null,
      "outputs": []
    },
    {
      "cell_type": "markdown",
      "source": [
        "For the data we have been given, this accuracy score is pretty adequate. It shows that its predictions are more than simply a 50-50 guess. But in real life this would almost always require improvment. There are a few options we can try. Let's start with feature engineering. We will create a new feature ('FamilySize') based on the sum of two pre-existing features ('SibSp' and 'Parch')."
      ],
      "metadata": {
        "id": "uBjgebYmjkqt"
      }
    },
    {
      "cell_type": "code",
      "source": [
        "# Create a new feature for FamilySize\n",
        "df['FamilySize'] = df['SibSp'] + df['Parch'] + 1  # Add 1 for the passenger themselves\n",
        "\n",
        "# Now we can drop the original SibSp and Parch columns, as they are now combined\n",
        "df = df.drop(['SibSp', 'Parch'], axis=1)\n",
        "\n",
        "print(\"New columns after feature engineering:\")\n",
        "print(df.head())"
      ],
      "metadata": {
        "id": "4_dkWfwQj2Lw",
        "colab": {
          "base_uri": "https://localhost:8080/"
        },
        "outputId": "36eef01b-7331-4136-b6a3-3bdae7f5947b"
      },
      "execution_count": 7,
      "outputs": [
        {
          "output_type": "stream",
          "name": "stdout",
          "text": [
            "New columns after feature engineering:\n",
            "   Survived  Pclass  Sex   Age     Fare  Embarked  FamilySize\n",
            "0         0       3    0  22.0   7.2500       0.0           2\n",
            "1         1       1    1  38.0  71.2833       1.0           2\n",
            "2         1       3    1  26.0   7.9250       0.0           1\n",
            "3         1       1    1  35.0  53.1000       0.0           2\n",
            "4         0       3    0  35.0   8.0500       0.0           1\n"
          ]
        }
      ]
    },
    {
      "cell_type": "code",
      "source": [],
      "metadata": {
        "id": "yITn2UDj72Uj"
      },
      "execution_count": null,
      "outputs": []
    },
    {
      "cell_type": "markdown",
      "source": [
        "Next, let's add some regularization to our model by adding a regularization parameter C. In scikit-learn, a smaller C value will mean stronger regularization. Let's try a few values to test the model's performance."
      ],
      "metadata": {
        "id": "WIBLpgmR8F4J"
      }
    },
    {
      "cell_type": "code",
      "source": [
        "from sklearn.linear_model import LogisticRegression\n",
        "from sklearn.metrics import accuracy_score\n",
        "\n",
        "# List of C values to test\n",
        "c_values = [0.01, 0.1, 1, 10, 100]\n",
        "\n",
        "print(\"Testing different C values:\")\n",
        "\n",
        "# Loop through each C value and train a new model\n",
        "for c in c_values:\n",
        "    # Create and train the model with the current C value\n",
        "    model = LogisticRegression(max_iter=200, C=c)\n",
        "    model.fit(X_train, y_train)\n",
        "\n",
        "    # Make predictions and calculate accuracy\n",
        "    predictions = model.predict(X_test)\n",
        "    accuracy = accuracy_score(y_test, predictions)\n",
        "\n",
        "    print(f\"  - C = {c:<5}: Accuracy = {accuracy * 100:.2f}%\")"
      ],
      "metadata": {
        "colab": {
          "base_uri": "https://localhost:8080/"
        },
        "id": "hpFX4rXj8e4i",
        "outputId": "5935cbeb-b8a4-4589-f0bc-811b5cd21f3e"
      },
      "execution_count": 21,
      "outputs": [
        {
          "output_type": "stream",
          "name": "stdout",
          "text": [
            "Testing different C values:\n",
            "  - C = 0.01 : Accuracy = 73.74%\n",
            "  - C = 0.1  : Accuracy = 80.45%\n",
            "  - C = 1    : Accuracy = 79.89%\n",
            "  - C = 10   : Accuracy = 79.89%\n",
            "  - C = 100  : Accuracy = 79.89%\n"
          ]
        }
      ]
    },
    {
      "cell_type": "code",
      "source": [],
      "metadata": {
        "id": "EfBPoV828gpD"
      },
      "execution_count": null,
      "outputs": []
    },
    {
      "cell_type": "markdown",
      "source": [
        "It looks like C=0.1 is our best bet!"
      ],
      "metadata": {
        "id": "dT7Dqj369YDD"
      }
    },
    {
      "cell_type": "code",
      "source": [],
      "metadata": {
        "id": "ljxGtkbJ9Xvj"
      },
      "execution_count": null,
      "outputs": []
    }
  ]
}
